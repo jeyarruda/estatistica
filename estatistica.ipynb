{
 "cells": [
  {
   "cell_type": "code",
   "execution_count": 4,
   "metadata": {},
   "outputs": [],
   "source": [
    "import numpy as np; "
   ]
  },
  {
   "cell_type": "code",
   "execution_count": 5,
   "metadata": {},
   "outputs": [],
   "source": [
    "from scipy import stats\n",
    "import statistics"
   ]
  },
  {
   "cell_type": "code",
   "execution_count": 174,
   "metadata": {},
   "outputs": [],
   "source": [
    "import matplotlib\n",
    "import matplotlib.pyplot as plt \n",
    "import matplotlib.mlab as mlab\n",
    "\n",
    "from random import randint\n",
    "import pandas as pd\n",
    "from sklearn.linear_model import LinearRegression\n",
    "import statsmodels.api as sm\n",
    "\n",
    "%matplotlib inline"
   ]
  },
  {
   "cell_type": "code",
   "execution_count": 171,
   "metadata": {},
   "outputs": [
    {
     "name": "stdout",
     "output_type": "stream",
     "text": [
      "62.0 134.0\n",
      "100\n"
     ]
    },
    {
     "data": {
      "text/plain": [
       "<BarContainer object of 5 artists>"
      ]
     },
     "execution_count": 171,
     "metadata": {},
     "output_type": "execute_result"
    },
    {
     "data": {
      "image/png": "[encoded data removed]",
      "text/plain": [
       "<Figure size 432x288 with 1 Axes>"
      ]
     },
     "metadata": {
      "needs_background": "light"
     },
     "output_type": "display_data"
    }
   ],
   "source": [
    "np.random.seed(0)\n",
    "\n",
    "#dados\n",
    "mu = 100  # media de distribuição\n",
    "sigma = 15  # desvio de padrão de distribuição\n",
    "qi = np.around(mu + sigma * np.random.randn(100))\n",
    "\n",
    "\n",
    "print(qi.min(), qi.max())\n",
    "\n",
    "idade = [randint(17, 99) for p in range(0, 100)]\n",
    "qi1=[]\n",
    "qi2=[]\n",
    "qi3=[]\n",
    "qi4=[]\n",
    "qi5=[]\n",
    "for i in range(0,100):\n",
    "    if qi[i]<70:\n",
    "        qi1.append(qi[i])\n",
    "    if qi[i]>=70 and qi[i]<90:\n",
    "        qi2.append(qi[i])\n",
    "    if qi[i]>=90 and qi[i]<110:\n",
    "        qi3.append(qi[i])\n",
    "    if qi[i]>=110 and qi[i]<130:\n",
    "        qi4.append(qi[i])\n",
    "    if qi[i]>=130 and qi[i]<=150:\n",
    "        qi5.append(qi[i])\n",
    "\n",
    "\n",
    "total = len(qi1)+len(qi2)+len(qi3)+len(qi4)+len(qi5)\n",
    "print(total)\n",
    "\n",
    "qi_1 = pd.Series({'Classes': '50  |---- 70', 'Freq. Absoluta': len(qi1), 'Frequencia relativa:':len(qi1)/total, 'Frequencia Acumulada:':len(qi1)/total})\n",
    "qi_2 = pd.Series({'Classes': '70  |---- 90', 'Freq. Absoluta': len(qi2), 'Frequencia relativa:':len(qi2)/total, 'Frequencia Acumulada:':len(qi1)/total+len(qi2)/total})\n",
    "qi_3 = pd.Series({'Classes': '90  |---- 110', 'Freq. Absoluta': len(qi3), 'Frequencia relativa:':len(qi3)/total, 'Frequencia Acumulada:':len(qi1)/total+len(qi2)/total+len(qi3)/total})\n",
    "qi_4 = pd.Series({'Classes': '110 |---- 130', 'Freq. Absoluta': len(qi4), 'Frequencia relativa:':len(qi4)/total, 'Frequencia Acumulada:':len(qi1)/total+len(qi2)/total+len(qi3)/total+len(qi4)/total})\n",
    "qi_5 = pd.Series({'Classes': '130 |----| 150', 'Freq. Absoluta': len(qi5), 'Frequencia relativa:':len(qi5)/total, 'Frequencia Acumulada:':len(qi1)/total+len(qi2)/total+len(qi3)/total+len(qi4)/total+len(qi5)/total})\n",
    "qi_6 = pd.Series({'Classes': 'Total:', 'Freq. Absoluta': total, 'Frequencia relativa:':total/total, 'Frequencia Acumulada:':len(qi1)/total+len(qi2)/total+len(qi3)/total+len(qi4)/total+len(qi5)/total})\n",
    "\n",
    "data = [len(qi1), len(qi2), len(qi3), len(qi4), len(qi5)]\n",
    "\n",
    "\n",
    "names = ['50  |---- 70','70  |---- 90','90  |---- 110','110 |---- 130','130 |----| 150']\n",
    "\n",
    "plt.subplots_adjust(top=0.92, bottom=0.08, left=0.10, right=0.95, hspace=0.25,\n",
    "                    wspace=0.35)\n",
    "plt.bar(names, data)"
   ]
  },
  {
   "cell_type": "code",
   "execution_count": 196,
   "metadata": {},
   "outputs": [
    {
     "ename": "AttributeError",
     "evalue": "module 'matplotlib.mlab' has no attribute 'normpdf'",
     "output_type": "error",
     "traceback": [
      "\u001b[0;31m---------------------------------------------------------------------------\u001b[0m",
      "\u001b[0;31mAttributeError\u001b[0m                            Traceback (most recent call last)",
      "\u001b[0;32m<ipython-input-196-25f940cf4492>\u001b[0m in \u001b[0;36m<module>\u001b[0;34m\u001b[0m\n\u001b[1;32m      6\u001b[0m \u001b[0;31m# corresponding y axis values\u001b[0m\u001b[0;34m\u001b[0m\u001b[0;34m\u001b[0m\u001b[0;34m\u001b[0m\u001b[0m\n\u001b[1;32m      7\u001b[0m \u001b[0my\u001b[0m \u001b[0;34m=\u001b[0m \u001b[0midade\u001b[0m\u001b[0;34m\u001b[0m\u001b[0;34m\u001b[0m\u001b[0m\n\u001b[0;32m----> 8\u001b[0;31m \u001b[0my\u001b[0m \u001b[0;34m=\u001b[0m \u001b[0mmlab\u001b[0m\u001b[0;34m.\u001b[0m\u001b[0mnormpdf\u001b[0m\u001b[0;34m(\u001b[0m\u001b[0mbins\u001b[0m\u001b[0;34m,\u001b[0m \u001b[0mmu\u001b[0m\u001b[0;34m,\u001b[0m \u001b[0msigma\u001b[0m\u001b[0;34m)\u001b[0m\u001b[0;34m\u001b[0m\u001b[0;34m\u001b[0m\u001b[0m\n\u001b[0m\u001b[1;32m      9\u001b[0m \u001b[0;34m\u001b[0m\u001b[0m\n\u001b[1;32m     10\u001b[0m \u001b[0;34m\u001b[0m\u001b[0m\n",
      "\u001b[0;31mAttributeError\u001b[0m: module 'matplotlib.mlab' has no attribute 'normpdf'"
     ]
    }
   ],
   "source": [
    "valores = np.around(qi, 1)\n",
    "\n",
    "\n",
    "# x axis values \n",
    "X = valores\n",
    "# corresponding y axis values \n",
    "y = idade\n",
    "  \n",
    "plt.scatter(X, y, label= \"Pessoa\", color= \"red\",  \n",
    "            marker= \".\", s=30) \n",
    "  \n",
    "# x-axis label \n",
    "\n",
    "plt.xlabel('QI') \n",
    "# frequency label \n",
    "plt.ylabel('idade') \n",
    "# plot title \n",
    "plt.title('QI por idade') \n",
    "# showing legend \n",
    "plt.legend() \n",
    "  \n",
    "# function to show the plot \n",
    "plt.show() \n",
    "\n",
    "\n",
    "print(\"######################################################\")\n",
    "print(\"Lista de valores: \\n\", valores, \"\\n \\n \\n\")\n",
    "print(\"######################################################\")\n",
    "print(\"A moda dos valores é:\", statistics.mode(valores), \"                       \")\n",
    "\n",
    "print(\"A média dos valores é:\", statistics.mean(valores), \"                    \")\n",
    "\n",
    "print(\"A mediana dos valores é:\", statistics.median(valores), \"                    \")\n",
    "\n",
    "\n",
    "#todo:  A função ajuda a calcular a variação de um todo, e não a de uma amostra\n",
    "print(\"A variância total dos valores é:\", statistics.pvariance(valores),\"       \")\n",
    "\n",
    "#todo: Apenas a média da amostra é levada em consideração\n",
    "print(\"A variância dos valores é:\", statistics.variance(valores), \"      \")\n",
    "#todo (a raiz quadrada da variação da população).\n",
    "print(\"O desvio padrão da população é:\", statistics.pstdev(valores), \"\")\n",
    "print(\"O desvio padrão da amostra é:\", statistics.stdev(valores), \"  \")\n",
    "print(\"######################################################\")"
   ]
  },
  {
   "cell_type": "code",
   "execution_count": null,
   "metadata": {},
   "outputs": [],
   "source": []
  },
  {
   "cell_type": "code",
   "execution_count": null,
   "metadata": {},
   "outputs": [],
   "source": []
  },
  {
   "cell_type": "code",
   "execution_count": null,
   "metadata": {},
   "outputs": [],
   "source": []
  }
 ],
 "metadata": {
  "kernelspec": {
   "display_name": "Python 3",
   "language": "python",
   "name": "python3"
  },
  "language_info": {
   "codemirror_mode": {
    "name": "ipython",
    "version": 3
   },
   "file_extension": ".py",
   "mimetype": "text/x-python",
   "name": "python",
   "nbconvert_exporter": "python",
   "pygments_lexer": "ipython3",
   "version": "3.7.2"
  }
 },
 "nbformat": 4,
 "nbformat_minor": 2
}
